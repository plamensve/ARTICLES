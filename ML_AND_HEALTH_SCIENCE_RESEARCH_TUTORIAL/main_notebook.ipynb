{
 "cells": [
  {
   "metadata": {},
   "cell_type": "markdown",
   "source": "# Machine learning and Health science research tutoria",
   "id": "9457d61a27f849ed"
  },
  {
   "metadata": {},
   "cell_type": "markdown",
   "source": [
    "### Authors:\n",
    "- Hunyong Cho PhD; \n",
    "- Jane She, BA; \n",
    "- Daniel De Marchi, BSc; \n",
    "- Helal El-Zaatari, BSc; \n",
    "- Edward L Barnes, MPH, MD;$$\n",
    "- Anna R Kahkoska, MD, PhD; \n",
    "- Michael R Kosorok, MM, PhD; \n",
    "- Arti V Virkud, Phd;\n",
    "\n",
    "#### Source: https://www.jmir.org/2024/1/e50890/?utm_source"
   ],
   "id": "c24f08278e59a852"
  },
  {
   "metadata": {},
   "cell_type": "markdown",
   "source": "",
   "id": "5aef48635ea46fea"
  },
  {
   "metadata": {},
   "cell_type": "markdown",
   "source": "",
   "id": "7c2bc9bbd531ed36"
  }
 ],
 "metadata": {
  "kernelspec": {
   "display_name": "Python 3",
   "language": "python",
   "name": "python3"
  },
  "language_info": {
   "codemirror_mode": {
    "name": "ipython",
    "version": 2
   },
   "file_extension": ".py",
   "mimetype": "text/x-python",
   "name": "python",
   "nbconvert_exporter": "python",
   "pygments_lexer": "ipython2",
   "version": "2.7.6"
  }
 },
 "nbformat": 4,
 "nbformat_minor": 5
}
